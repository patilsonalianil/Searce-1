{
  "nbformat": 4,
  "nbformat_minor": 0,
  "metadata": {
    "colab": {
      "name": "ML Endterm.ipynb",
      "provenance": [],
      "collapsed_sections": []
    },
    "kernelspec": {
      "name": "python3",
      "display_name": "Python 3"
    },
    "language_info": {
      "name": "python"
    }
  },
  "cells": [
    {
      "cell_type": "markdown",
      "source": [
        "Question 1"
      ],
      "metadata": {
        "id": "EahsEXpwvnzm"
      }
    },
    {
      "cell_type": "markdown",
      "source": [
        "Apply K-Means Clustering technique of machine learning to solve the given problem.\n",
        "We have given a collection of 8 points. P1=[0.1,0.6] P2=[0.15,0.71] P3=[0.08,0.9] \n",
        "P4=[0.16, 0.85] P5=[0.2,0.3] P6=[0.25,0.5] P7=[0.24,0.1] P8=[0.3,0.2]. Perform the k\u0002mean clustering with initial centroids as m1=P1 =Cluster#1=C1 and m2=P8=cluster#2=C2. \n",
        "Answer the following \n",
        "1] Which cluster does P6 belongs to? \n",
        "2] What is the population of cluster around m2? \n",
        "3] What is updated value of m1 and m2? \n",
        "4] What is the best value of K for the given problem"
      ],
      "metadata": {
        "id": "7YNHXlNObkZC"
      }
    },
    {
      "cell_type": "code",
      "execution_count": null,
      "metadata": {
        "id": "uVqawpkbvmFz",
        "colab": {
          "base_uri": "https://localhost:8080/",
          "height": 652
        },
        "outputId": "0cccff5f-a288-4ebb-cc8e-76c6ca591c55"
      },
      "outputs": [
        {
          "output_type": "display_data",
          "data": {
            "text/plain": [
              "<Figure size 432x288 with 1 Axes>"
            ],
            "image/png": "[encoded data removed]"
          },
          "metadata": {
            "needs_background": "light"
          }
        },
        {
          "output_type": "display_data",
          "data": {
            "text/plain": [
              "<Figure size 432x288 with 1 Axes>"
            ],
            "image/png": "[encoded data removed]"
          },
          "metadata": {
            "needs_background": "light"
          }
        },
        {
          "output_type": "stream",
          "name": "stdout",
          "text": [
            "Point P6 belongs to cluster 1\n",
            "Population of cluster 2: 4\n",
            "Initial value of cluster centroids m1 & m2:\n",
            "m1 =  [0.1 0.6]\n",
            "m2 =  [0.25 0.5 ]\n",
            "Updated value of cluster centroids m1 & m2:\n",
            "m1 =  [0.1225 0.765 ]\n",
            "m2 =  [0.2475 0.275 ]\n"
          ]
        }
      ],
      "source": [
        "import numpy as np\n",
        "import pandas as pd\n",
        "import matplotlib.pyplot as plt\n",
        "import math\n",
        "from sklearn.cluster import KMeans\n",
        "\n",
        "## Create Dataset\n",
        "X = [[0.1,0.6],[0.15,0.71],[0.08,0.9],[0.16,0.85],[0.2,0.3],[0.25,0.5],[0.24,0.1],[0.3,\n",
        "0.2]]\n",
        "df = np.array(X)\n",
        "df\n",
        "\n",
        "centroids = np.array([[0.1,0.6],[0.25,0.5]])\n",
        "centroids\n",
        "\n",
        "\n",
        "# Data Points\n",
        "plt.figure()\n",
        "plt.scatter(df[:,0],df[:,1])\n",
        "plt.show()\n",
        "\n",
        "# Data Points with two clusters centroids\n",
        "plt.figure()\n",
        "plt.scatter(df[:,0],df[:,1],alpha = 0.5)\n",
        "plt.scatter(centroids[0],centroids[1],color = 'black', marker='o', s=100)\n",
        "plt.show()\n",
        "\n",
        "\n",
        "model = KMeans(n_clusters=2, init=centroids, n_init=1, random_state=0)\n",
        "model.fit(df)\n",
        "\n",
        "\n",
        "model.labels_\n",
        "\n",
        "\n",
        "print(\"Point P6 belongs to cluster\", model.labels_[5])\n",
        "print(\"Population of cluster 2:\", sum(model.labels_==1))\n",
        "\n",
        "\n",
        "print(\"Initial value of cluster centroids m1 & m2:\")\n",
        "print(\"m1 = \", centroids[0])\n",
        "print(\"m2 = \", centroids[1])\n",
        "print(\"Updated value of cluster centroids m1 & m2:\")\n",
        "print(\"m1 = \", model.cluster_centers_[0])\n",
        "print(\"m2 = \", model.cluster_centers_[1])\n",
        "\n"
      ]
    },
    {
      "cell_type": "markdown",
      "source": [
        "Question 2\n",
        "\n",
        "Apply K-Means Clustering technique of machine learning to analyze the Iris dataset.\n",
        "Use Elbow method to find best value of K."
      ],
      "metadata": {
        "id": "j1xa3kN_vrNT"
      }
    },
    {
      "cell_type": "code",
      "source": [
        "import numpy as np\n",
        "import pandas as pd\n",
        "import matplotlib.pyplot as plt\n",
        "import math\n",
        "from sklearn.cluster import KMeans\n",
        "from sklearn.datasets import load_iris\n",
        "\n",
        "\n",
        "dataset = load_iris()\n",
        "X = dataset.data\n",
        "y = dataset.target\n",
        "\n",
        "\"\"\"WCSS is the sum of squared distance between each point and the centroid in a cluster. \n",
        "When we plot the WCSS with the K value, the plot looks like an Elbow. As the number of clusters increases, \n",
        "the WCSS value will start to decrease. WCSS value is largest when K = 1.\"\"\"\n",
        "\n",
        "# Finding the optimum number of clusters\n",
        "wcss = []\n",
        "for i in range(1,11):\n",
        " kmeans = KMeans(n_clusters=i, init='k-means++', max_iter=300, n_init=10, random_state=0)\n",
        " kmeans.fit(X)\n",
        " wcss.append(kmeans.inertia_)\n",
        "plt.plot(range(1,11),wcss)\n",
        "plt.title('The Elbow Method')\n",
        "plt.xlabel('Number of clusters')\n",
        "plt.ylabel('WCSS')\n",
        "plt.show()\n",
        " \n",
        "kemans = KMeans(n_clusters=3, init='k-means++', max_iter=300, n_init=10, random_state=0)\n",
        "y_kmenas = kemans.fit_predict(X)\n",
        "\n",
        "dataset.feature_names\n",
        "\n",
        "# Before Prediction\n",
        "\n",
        "n_classes=len(dataset.target_names)\n",
        "for i in range(n_classes):\n",
        "    index = np.where(y == i)\n",
        "    plt.scatter(X[index, 0], X[index, 1],  \n",
        "    label=dataset.target_names[i])\n",
        "plt.legend()\n",
        "plt.xlabel(\"Sepal Length\")\n",
        "plt.ylabel(\"Sepal Width\")\n",
        "\n",
        "\n",
        "# After Prediction\n",
        "\n",
        "plt.scatter(X[y_kmenas == 0, 0], X[y_kmenas == 0, 1], c='red', label='Cluster 1')\n",
        "plt.scatter(X[y_kmenas == 1, 0], X[y_kmenas == 1, 1], c='blue', label='Cluster 2')\n",
        "plt.scatter(X[y_kmenas == 2, 0], X[y_kmenas == 2, 1], c='green', label='Cluster 3')\n",
        "\n",
        "# Plotting the centroids of the clusters\n",
        "plt.scatter(kemans.cluster_centers_[:, 0], kemans.cluster_centers_[:, 1], s=100, c='yellow', label='Centroids')\n",
        "plt.xlabel(\"Sepal Length\")\n",
        "plt.ylabel(\"Sepal Width\")\n",
        "plt.legend()\n"
      ],
      "metadata": {
        "id": "E7taXW6Zvrkc",
        "outputId": "cd938e1a-92d3-4b90-8c93-7c7cadf8bd30",
        "colab": {
          "base_uri": "https://localhost:8080/",
          "height": 577
        }
      },
      "execution_count": null,
      "outputs": [
        {
          "output_type": "display_data",
          "data": {
            "text/plain": [
              "<Figure size 432x288 with 1 Axes>"
            ],
            "image/png": "[encoded data removed]"
          },
          "metadata": {
            "needs_background": "light"
          }
        },
        {
          "output_type": "execute_result",
          "data": {
            "text/plain": [
              "<matplotlib.legend.Legend at 0x7f4f12284810>"
            ]
          },
          "metadata": {},
          "execution_count": 72
        },
        {
          "output_type": "display_data",
          "data": {
            "text/plain": [
              "<Figure size 432x288 with 1 Axes>"
            ],
            "image/png": "[encoded data removed]"
          },
          "metadata": {
            "needs_background": "light"
          }
        }
      ]
    },
    {
      "cell_type": "markdown",
      "source": [
        "Question 3\n",
        "\n",
        "- Apply K-Means Clustering technique of machine learning to analyze the Bostan \n",
        "dataset. \n",
        "Use Elbow method to find best value of K."
      ],
      "metadata": {
        "id": "cxfrkJ5zvty8"
      }
    },
    {
      "cell_type": "code",
      "source": [
        ""
      ],
      "metadata": {
        "id": "FaJl-mDTqPx1"
      },
      "execution_count": null,
      "outputs": []
    },
    {
      "cell_type": "markdown",
      "source": [
        "Question 4\n",
        "\n",
        "Apply Linear Regression technique to solve the given problem.\n",
        "The following table shows the results of a recently conducted study on the correlation of the \n",
        "number of hours spent driving with the risk of developing acute backache. Find the \n",
        "equation of the best fit line for this data. \n",
        "\n"
      ],
      "metadata": {
        "id": "iZUysVo5qKj3"
      }
    },
    {
      "cell_type": "code",
      "source": [
        "import pandas as pd\n",
        "import numpy as np\n",
        "import matplotlib.pyplot as plt\n",
        "\n",
        "data = [[10,95],[9,80],[2,10],[15,50],[10,45],[16,98],[11,38],[16,93]]\n",
        "data=pd.DataFrame(data)\n",
        "\n",
        "X=data.iloc[:,:-1]\n",
        "Y=data.iloc[:,-1]\n",
        "\n",
        "plt.scatter(X,Y)\n",
        "\n",
        "from sklearn.linear_model import LinearRegression\n",
        "\n",
        "lr=LinearRegression()\n",
        "lr.fit(X,Y)\n",
        "\n",
        "print(lr.score(X,Y))\n",
        "\n",
        "print(lr.coef_)\n",
        "\n",
        "print(lr.intercept_)\n",
        "\n"
      ],
      "metadata": {
        "colab": {
          "base_uri": "https://localhost:8080/",
          "height": 317
        },
        "id": "lQLwmkmCfSp6",
        "outputId": "be0daa3a-2c76-4fdd-ff10-e28063730a2d"
      },
      "execution_count": null,
      "outputs": [
        {
          "output_type": "stream",
          "name": "stdout",
          "text": [
            "0.43709481451010035\n",
            "[4.58789861]\n",
            "12.584627964022907\n"
          ]
        },
        {
          "output_type": "display_data",
          "data": {
            "text/plain": [
              "<Figure size 432x288 with 1 Axes>"
            ],
            "image/png": "[encoded data removed]"
          },
          "metadata": {
            "needs_background": "light"
          }
        }
      ]
    },
    {
      "cell_type": "markdown",
      "source": [
        "*Question* 5\n",
        "\n",
        "Apply Linear Regression technique of machine learning to analyze the Diabetes\n",
        "dataset.\n",
        "Display accuracy of the model.\n",
        "Find the equation of the best fit line for this data. "
      ],
      "metadata": {
        "id": "OP_-0A3KebCG"
      }
    },
    {
      "cell_type": "code",
      "source": [
        "from sklearn.datasets import load_diabetes\n",
        "diabetes = load_diabetes()\n",
        "X=diabetes.data\n",
        "Y=diabetes.target\n",
        "\n",
        "print(X.shape)\n",
        "print(Y.shape)\n",
        "\n",
        "from sklearn.linear_model import LinearRegression\n",
        "from sklearn.model_selection import cross_val_score\n",
        "lr=LinearRegression()\n",
        "lr.fit(X,Y)\n",
        "\n",
        "lr_scores = cross_val_score(lr,X,y,cv=5)\n",
        "\n",
        "print(lr_scores.mean())"
      ],
      "metadata": {
        "colab": {
          "base_uri": "https://localhost:8080/"
        },
        "id": "ciRcWzYuhRqi",
        "outputId": "cc598ebd-71d0-4c17-a2ce-aa5f2bc5cd49"
      },
      "execution_count": null,
      "outputs": [
        {
          "output_type": "stream",
          "name": "stdout",
          "text": [
            "(442, 10)\n",
            "(442,)\n",
            "0.48231812211149394\n"
          ]
        }
      ]
    },
    {
      "cell_type": "markdown",
      "source": [
        "*Question* 6\n",
        "\n",
        "Apply Linear, Ridge, Lasso Regression technique of machine learning to analyze and \n",
        "build the model of the Diabetes dataset.\n",
        "Display and compare the accuracy (Cross-Validation, R2 Score) of all the models."
      ],
      "metadata": {
        "id": "P1kp8-V8vyqc"
      }
    },
    {
      "cell_type": "code",
      "source": [
        "# Linear Regression on Diabetes Dataset\n",
        "\n",
        "from sklearn.datasets import load_diabetes\n",
        "diabetes = load_diabetes()\n",
        "X=diabetes.data\n",
        "Y=diabetes.target\n",
        "\n",
        "print(X.shape)\n",
        "print(Y.shape)\n",
        "\n",
        "from sklearn.linear_model import LinearRegression\n",
        "from sklearn.model_selection import cross_val_score\n",
        "lr=LinearRegression()\n",
        "lr.fit(X,Y)\n",
        "\n",
        "lr_scores = cross_val_score(lr,X,Y,cv=5)\n",
        "\n",
        "lr_scores.mean()\n",
        "\n",
        "#Ridge Regression on Diabetes Dataset\n",
        "\n",
        "from sklearn.linear_model import Ridge\n",
        "rg = Ridge(alpha=0.05)\n",
        "rg.fit(X,Y)\n",
        "\n",
        "ridge_scores = cross_val_score(rg,X,Y,cv=5)\n",
        "ridge_scores.mean()\n",
        "\n",
        "from sklearn.linear_model import RidgeCV\n",
        "rg2 = RidgeCV(alphas=[0.01,0.02,0.04,0.05,0.1,0.2,0.5])\n",
        "rg2.fit(X,Y)\n",
        "\n",
        "rg2.alpha_\n",
        "\n",
        "ridge_scores = cross_val_score(rg2,X,Y,cv=5)\n",
        "ridge_scores.mean()\n",
        "\n",
        "# Lasso Regression on Diabetes Dataset\n",
        "\n",
        "from sklearn.linear_model import Lasso\n",
        "lg = Lasso(alpha=0.05)\n",
        "lg.fit(X,Y)\n",
        "\n",
        "\n",
        "from sklearn.linear_model import LassoCV\n",
        "lg2 = LassoCV(alphas=[0.01,0.02,0.04,0.05,0.1,0.2,0.5])\n",
        "lg2.fit(X,Y)\n",
        "\n",
        "lg2.alpha_\n",
        "\n",
        "lasso_scores = cross_val_score(lg2,X,Y,cv=5)\n",
        "lasso_scores.mean()\n",
        "\n",
        "import matplotlib.pyplot as plt\n",
        "x = ['Linear', 'Ridge','Lasso']\n",
        "y = [lr_scores.mean(),ridge_scores.mean(),lasso_scores.mean()]\n",
        "plt.xlabel(\"Method\")\n",
        "plt.ylabel(\"Accuracy %\")\n",
        "plt.bar(x,y)\n",
        "\n",
        "\n",
        "\"\"\"\n",
        "from sklearn.metrics import r2_score\n",
        "\n",
        "### Assume y is the actual value and f is the predicted values\n",
        "y =[10, 20, 30]\n",
        "f =[20, 20, 20]\n",
        "r2 = r2_score(y, f)\n",
        "print('r2 score for a model which predicts mean value always is', r2)\n",
        "\n",
        "\"\"\""
      ],
      "metadata": {
        "id": "agqU8Ja8ibEl",
        "colab": {
          "base_uri": "https://localhost:8080/",
          "height": 369
        },
        "outputId": "b3689301-ee4e-4030-9946-2b58094508c1"
      },
      "execution_count": null,
      "outputs": [
        {
          "output_type": "stream",
          "name": "stdout",
          "text": [
            "(442, 10)\n",
            "(442,)\n"
          ]
        },
        {
          "output_type": "execute_result",
          "data": {
            "text/plain": [
              "\"\\nfrom sklearn.metrics import r2_score\\n\\n### Assume y is the actual value and f is the predicted values\\ny =[10, 20, 30]\\nf =[20, 20, 20]\\nr2 = r2_score(y, f)\\nprint('r2 score for a model which predicts mean value always is', r2)\\n\\n\""
            ],
            "application/vnd.google.colaboratory.intrinsic+json": {
              "type": "string"
            }
          },
          "metadata": {},
          "execution_count": 33
        },
        {
          "output_type": "display_data",
          "data": {
            "text/plain": [
              "<Figure size 432x288 with 1 Axes>"
            ],
            "image/png": "[encoded data removed]"
          },
          "metadata": {
            "needs_background": "light"
          }
        }
      ]
    },
    {
      "cell_type": "markdown",
      "source": [
        "*Question* 7\n",
        "\n",
        "Apply Decision Tree Classification technique to solve given problem:\n",
        "A dataset collected in a cosmetics shop showing details of customers and whether or not \n",
        "they responded to a special offer to buy a new lip-stick is shown in table below. Use this \n",
        "dataset to build a decision tree, with Buys as the target variable, to help in buying lip-sticks \n",
        "in the future. Find the root node of decision tree. According to the decision tree you have \n",
        "made from previous training data set, what is the decision for the test data: [Age < 21, \n",
        "Income = Low, Gender = Female, Marital Status = Married]?"
      ],
      "metadata": {
        "id": "4CFf3HeYifRX"
      }
    },
    {
      "cell_type": "code",
      "source": [
        "import numpy as np\n",
        "import pandas as pd\n",
        "from sklearn.preprocessing import LabelEncoder\n",
        "from sklearn.tree import DecisionTreeClassifier\n",
        "from sklearn.tree import export_graphviz\n",
        "from IPython.display import Image\n",
        "\n",
        "data = pd.read_csv(\"data.csv\")\n",
        "data\n",
        "\n",
        "le=LabelEncoder();\n",
        "x=data.iloc[:,:-1]\n",
        "x=x.apply(le.fit_transform)\n",
        "print(\"Age:\",list( zip(data.iloc[:,0], x.iloc[:,0])))\n",
        "print(\"\\nIncome:\",list( zip(data.iloc[:,1], x.iloc[:,1])))\n",
        "print(\"\\nGender:\",list( zip(data.iloc[:,2], x.iloc[:,2])))\n",
        "print(\"\\nmaritialStatus:\",list( zip(data.iloc[:,3], x.iloc[:,3])))\n",
        "\n",
        "print(x)\n",
        "\n",
        "y=data.iloc[:,-1]\n",
        "print(y)\n",
        "\n",
        "dt=DecisionTreeClassifier()\n",
        "dt.fit(x,y)\n",
        "\n",
        "query=np.array([1,1,0,0])\n",
        "pred=dt.predict([query])\n",
        "pred[0]\n",
        "\n",
        "export_graphviz(dt,out_file=\"data1.dot\",feature_names=x.columns,class_names=[\"No\",\"Yes\"])\n",
        "!dot -Tpng data1.dot -o tree1.png\n",
        "Image(\"tree1.png\")\n"
      ],
      "metadata": {
        "id": "8jhKl9aqk9hg"
      },
      "execution_count": null,
      "outputs": []
    },
    {
      "cell_type": "markdown",
      "source": [
        "*Question* 8\n",
        "\n",
        "Apply k-NN Classification technique to solve given problem: \n",
        "In the following diagram let blue circles indicate positive examples and orange squares \n",
        "indicate negative examples. We want to use k-NN algorithm for classifying the points. If \n",
        "k=3, find the class of the point (6,6). \n"
      ],
      "metadata": {
        "id": "eCmz_F2-ij7j"
      }
    },
    {
      "cell_type": "code",
      "source": [
        "dataset = [[2,4,'negative'],[4,6,'negative'],[4,4,'positive'],[4,2,'negative'],[6,4,'negative'],[6,2,'positive']]\n",
        "dataset = pd.DataFrame(dataset)\n",
        "X = dataset.iloc[:,:-1]\n",
        "Y = dataset.iloc[:,-1]\n",
        "\n",
        "print(X)\n",
        "print(Y)\n",
        "\n",
        "# Import KNN\n",
        "from sklearn.neighbors import KNeighborsClassifier\n",
        "classifier = KNeighborsClassifier(n_neighbors=3)\n",
        "classifier.fit(X,Y)\n",
        "\n",
        "# Predict the class of point (6,6)\n",
        "\n",
        "x_test = np.array([6,6])\n",
        "y_pred = classifier.predict([x_test])\n",
        "ans  = \"\"\n",
        "\n",
        "if y_pred[0] =='negative':\n",
        "    ans = \"orange\"\n",
        "else:\n",
        "    ans = \"blue\"\n",
        "\n",
        "print('General KNN : ', y_pred[0],'(', ans, ')')\n",
        "\n",
        "# Distance Weighted KNN\n",
        "\n",
        "classifier = KNeighborsClassifier(n_neighbors=3, weights='distance')\n",
        "classifier.fit(X,y)\n",
        "\n",
        "# Predict the class of point (6,6)\n",
        "\n",
        "x_test = np.array([6,6])\n",
        "y_pred = classifier.predict([x_test])\n",
        "ans  = \"\"\n",
        "\n",
        "if y_pred[0] =='negative':\n",
        "    ans = \"orange\"\n",
        "else:\n",
        "    ans = \"blue\"\n",
        "\n",
        "print('General KNN : ', y_pred[0],'(', ans, ')')\n",
        "\n",
        "\n"
      ],
      "metadata": {
        "id": "4alPA4zdp-D7",
        "colab": {
          "base_uri": "https://localhost:8080/"
        },
        "outputId": "ce258d79-1495-46a3-eefe-349f7f7c2c6c"
      },
      "execution_count": null,
      "outputs": [
        {
          "output_type": "stream",
          "name": "stdout",
          "text": [
            "   0  1\n",
            "0  2  4\n",
            "1  4  6\n",
            "2  4  4\n",
            "3  4  2\n",
            "4  6  4\n",
            "5  6  2\n",
            "0    negative\n",
            "1    negative\n",
            "2    positive\n",
            "3    negative\n",
            "4    negative\n",
            "5    positive\n",
            "Name: 2, dtype: object\n",
            "General KNN :  negative ( orange )\n",
            "General KNN :  negative ( orange )\n"
          ]
        }
      ]
    },
    {
      "cell_type": "markdown",
      "source": [
        "Question 9 :\n",
        "\n",
        "Consider the following training data set. Write a program to construct a decision tree \n",
        "using ID3 algorithm. Display Accuracy measures for the same and predict a class of \n",
        "suitable query.\n",
        "\n",
        " https://www.youtube.com/watch?v=2YQHPfwVuF8\n",
        "\n",
        "* https://medium.datadriveninvestor.com/decision-tree-algorithm-with-hands-on-example-e6c2afb40d38"
      ],
      "metadata": {
        "id": "W2brI8KC2x9z"
      }
    },
    {
      "cell_type": "code",
      "source": [
        "# weather dataset\n",
        "\n"
      ],
      "metadata": {
        "id": "TxX0_x5o1Tn7"
      },
      "execution_count": null,
      "outputs": []
    },
    {
      "cell_type": "markdown",
      "source": [
        "Question 10 :\n",
        "\n",
        "Consider tissue paper factory application. Apply KNN algorithm to find class of new \n",
        "tissue paper (X1= 3, X2=7). Assume K=3\n",
        "X1 = Acid Durability \n",
        "(seconds) \n",
        "X2 = Strength (kg/square \n",
        "meter) \n",
        "Y = Classification \n",
        "7 7 Bad \n",
        "7 4 Bad \n",
        "3 4 Good \n",
        "1 4 Good"
      ],
      "metadata": {
        "id": "XZb8sxpOEO3u"
      }
    },
    {
      "cell_type": "code",
      "source": [
        "import pandas as pd\n",
        "import numpy as np\n",
        "\n",
        "data = [[7,7,'B'],[7,4,'B'],[3,4,'G'],[1,4,'G']]\n",
        "\n",
        "data = pd.DataFrame(data)\n",
        "\n",
        "test = [[3,7]]\n",
        "\n",
        "x = data.iloc[:,:-1].values\n",
        "y = data.iloc[:, -1].values\n",
        "\n",
        "print(x)\n",
        "\n",
        "print(y)\n",
        "\n",
        "from sklearn.preprocessing import LabelEncoder\n",
        "le = LabelEncoder()\n",
        "y = le.fit_transform(y)\n",
        "\n",
        "print(y)\n",
        "\n",
        "from sklearn.neighbors import KNeighborsClassifier\n",
        "classifier = KNeighborsClassifier(n_neighbors=3)\n",
        "classifier.fit(x,y)\n",
        "\n",
        "print(classifier.predict(test))"
      ],
      "metadata": {
        "id": "oIE7TLil-XZe",
        "colab": {
          "base_uri": "https://localhost:8080/"
        },
        "outputId": "b17038f0-512e-40e4-aee0-fac9b92cfef1"
      },
      "execution_count": null,
      "outputs": [
        {
          "output_type": "stream",
          "name": "stdout",
          "text": [
            "[[7 7]\n",
            " [7 4]\n",
            " [3 4]\n",
            " [1 4]]\n",
            "['B' 'B' 'G' 'G']\n",
            "[0 0 1 1]\n",
            "[1]\n"
          ]
        }
      ]
    },
    {
      "cell_type": "markdown",
      "source": [
        "# ICS "
      ],
      "metadata": {
        "id": "TQa8FbtjIJVV"
      }
    },
    {
      "cell_type": "markdown",
      "source": [
        "Implementation of Playfair Cipher Matrix   \n",
        "Implementation of Hill Cipher.    \n",
        "Implementation of  columnar Transposition cipher.     \n",
        "Implementation of Diffie-Hellman key exchange \n",
        "Implementation of RSA algorithm. "
      ],
      "metadata": {
        "id": "eynTlEJdIJTO"
      }
    },
    {
      "cell_type": "code",
      "source": [
        ""
      ],
      "metadata": {
        "id": "skO9tH2jIR8i"
      },
      "execution_count": null,
      "outputs": []
    }
  ]
}